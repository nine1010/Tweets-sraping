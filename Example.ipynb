{
 "cells": [
  {
   "cell_type": "code",
   "execution_count": 13,
   "metadata": {},
   "outputs": [],
   "source": [
    "from Scweet.scweet import scrape\n",
    "from Scweet.user import get_user_information, get_users_following, get_users_followers"
   ]
  },
  {
   "cell_type": "markdown",
   "metadata": {},
   "source": [
    "# Scrape tweets of a specific account or words or hashtag"
   ]
  },
  {
   "cell_type": "code",
   "execution_count": 1,
   "metadata": {},
   "outputs": [],
   "source": [
    "from Scweet.scweet import scrape\n",
    "from Scweet.utils import init_driver, log_in"
   ]
  },
  {
   "cell_type": "code",
   "execution_count": 16,
   "metadata": {
    "scrolled": true
   },
   "outputs": [
    {
     "name": "stdout",
     "output_type": "stream",
     "text": [
      "Scraping on headless mode.\n",
      "looking for tweets between 2023-09-20 and 2023-09-21 ...\n",
      " path : https://twitter.com/search?q=(from%3A@Ubisoft)%20until%3A2023-09-21%20since%3A2023-09-20%20%20-filter%3Areplies&src=typed_query\n",
      "scroll  1\n",
      "scroll  2\n",
      "looking for tweets between 2023-09-21 and 2023-09-22 ...\n",
      " path : https://twitter.com/search?q=(from%3A@Ubisoft)%20until%3A2023-09-22%20since%3A2023-09-21%20%20-filter%3Areplies&src=typed_query\n",
      "Tweet made at: 2023-09-21T16:11:07.000Z is found.\n",
      "Tweet made at: 2023-09-21T13:18:25.000Z is found.\n",
      "scroll  1\n",
      "scroll  2\n",
      "scroll  3\n",
      "looking for tweets between 2023-09-22 and 2023-09-23 ...\n",
      " path : https://twitter.com/search?q=(from%3A@Ubisoft)%20until%3A2023-09-23%20since%3A2023-09-22%20%20-filter%3Areplies&src=typed_query\n",
      "Tweet made at: 2023-09-22T16:06:04.000Z is found.\n",
      "Tweet made at: 2023-09-22T17:07:12.000Z is found.\n",
      "scroll  1\n",
      "scroll  2\n",
      "scroll  3\n",
      "looking for tweets between 2023-09-23 and 2023-09-24 ...\n",
      " path : https://twitter.com/search?q=(from%3A@Ubisoft)%20until%3A2023-09-24%20since%3A2023-09-23%20%20-filter%3Areplies&src=typed_query\n",
      "Tweet made at: 2023-09-23T15:00:01.000Z is found.\n",
      "scroll  1\n",
      "scroll  2\n",
      "scroll  3\n",
      "looking for tweets between 2023-09-24 and 2023-09-25 ...\n",
      " path : https://twitter.com/search?q=(from%3A@Ubisoft)%20until%3A2023-09-25%20since%3A2023-09-24%20%20-filter%3Areplies&src=typed_query\n",
      "scroll  1\n",
      "scroll  2\n"
     ]
    }
   ],
   "source": [
    "# scrape top tweets with the words 'covid','covid19' in proximity and without replies.\n",
    "# the process is slower as the interval is smaller (choose an interval that can divide the period of time betwee, start and max date)\n",
    "data = scrape(\n",
    "    from_account=\"@Ubisoft\",\n",
    "    since=\"2023-09-20\",\n",
    "    until=\"2023-09-25\",\n",
    "    interval=1,\n",
    "    headless=True,\n",
    "    display_type=\"Top\",\n",
    "    save_images=False,\n",
    "    proxy=None,\n",
    "    save_dir=\"outputs\",\n",
    "    resume=False,\n",
    "    filter_replies=True,\n",
    "    proximity=False,\n",
    ")"
   ]
  },
  {
   "cell_type": "code",
   "execution_count": 17,
   "metadata": {},
   "outputs": [
    {
     "data": {
      "text/html": [
       "<div>\n",
       "<style scoped>\n",
       "    .dataframe tbody tr th:only-of-type {\n",
       "        vertical-align: middle;\n",
       "    }\n",
       "\n",
       "    .dataframe tbody tr th {\n",
       "        vertical-align: top;\n",
       "    }\n",
       "\n",
       "    .dataframe thead th {\n",
       "        text-align: right;\n",
       "    }\n",
       "</style>\n",
       "<table border=\"1\" class=\"dataframe\">\n",
       "  <thead>\n",
       "    <tr style=\"text-align: right;\">\n",
       "      <th></th>\n",
       "      <th>UserScreenName</th>\n",
       "      <th>UserName</th>\n",
       "      <th>Timestamp</th>\n",
       "      <th>Text</th>\n",
       "      <th>Embedded_text</th>\n",
       "      <th>Emojis</th>\n",
       "      <th>Comments</th>\n",
       "      <th>Likes</th>\n",
       "      <th>Retweets</th>\n",
       "      <th>Image link</th>\n",
       "      <th>Tweet URL</th>\n",
       "    </tr>\n",
       "  </thead>\n",
       "  <tbody>\n",
       "    <tr>\n",
       "      <th>0</th>\n",
       "      <td>Ubisoft</td>\n",
       "      <td>@Ubisoft</td>\n",
       "      <td>2023-09-21T16:11:07.000Z</td>\n",
       "      <td>Ubisoft\\n@Ubisoft\\n·\\nSep 21</td>\n",
       "      <td>See what the hype is about for #TheCrewMotorfe...</td>\n",
       "      <td></td>\n",
       "      <td>36</td>\n",
       "      <td>34</td>\n",
       "      <td>382</td>\n",
       "      <td>[]</td>\n",
       "      <td>https://twitter.com/Ubisoft/status/17048910146...</td>\n",
       "    </tr>\n",
       "    <tr>\n",
       "      <th>1</th>\n",
       "      <td>Ubisoft</td>\n",
       "      <td>@Ubisoft</td>\n",
       "      <td>2023-09-21T13:18:25.000Z</td>\n",
       "      <td>Ubisoft\\n@Ubisoft\\n·\\nSep 21</td>\n",
       "      <td>Ready for a mind-bending adventure? Dive into ...</td>\n",
       "      <td>🕹 👉</td>\n",
       "      <td>19</td>\n",
       "      <td>22</td>\n",
       "      <td>198</td>\n",
       "      <td>[https://pbs.twimg.com/media/F6jV0BsXYAEtu1h?f...</td>\n",
       "      <td>https://twitter.com/Ubisoft/status/17048475520...</td>\n",
       "    </tr>\n",
       "    <tr>\n",
       "      <th>2</th>\n",
       "      <td>Ubisoft</td>\n",
       "      <td>@Ubisoft</td>\n",
       "      <td>2023-09-22T16:06:04.000Z</td>\n",
       "      <td>Ubisoft\\n@Ubisoft\\n·\\nSep 22</td>\n",
       "      <td>For every light, there's a shadow…\\n@Assassins...</td>\n",
       "      <td></td>\n",
       "      <td>35</td>\n",
       "      <td>170</td>\n",
       "      <td>1,014</td>\n",
       "      <td>[]</td>\n",
       "      <td>https://twitter.com/Ubisoft/status/17052521294...</td>\n",
       "    </tr>\n",
       "    <tr>\n",
       "      <th>3</th>\n",
       "      <td>Ubisoft</td>\n",
       "      <td>@Ubisoft</td>\n",
       "      <td>2023-09-22T17:07:12.000Z</td>\n",
       "      <td>Ubisoft\\n@Ubisoft\\n·\\nSep 23</td>\n",
       "      <td>Meet Dolph Laserhawk...\\n\\nTune in for the bra...</td>\n",
       "      <td>📺</td>\n",
       "      <td>13</td>\n",
       "      <td>20</td>\n",
       "      <td>189</td>\n",
       "      <td>[https://pbs.twimg.com/media/F6o_QxwWQAE_im8?f...</td>\n",
       "      <td>https://twitter.com/Ubisoft/status/17052675137...</td>\n",
       "    </tr>\n",
       "    <tr>\n",
       "      <th>4</th>\n",
       "      <td>Ubisoft</td>\n",
       "      <td>@Ubisoft</td>\n",
       "      <td>2023-09-23T15:00:01.000Z</td>\n",
       "      <td>Ubisoft\\n@Ubisoft\\n·\\nSep 23</td>\n",
       "      <td>Meet Bullfrog, master Assassin...\\n\\nTune in f...</td>\n",
       "      <td>🐸</td>\n",
       "      <td>12</td>\n",
       "      <td>30</td>\n",
       "      <td>219</td>\n",
       "      <td>[https://pbs.twimg.com/media/F6uAP4bXcAAhfdn?f...</td>\n",
       "      <td>https://twitter.com/Ubisoft/status/17055978970...</td>\n",
       "    </tr>\n",
       "  </tbody>\n",
       "</table>\n",
       "</div>"
      ],
      "text/plain": [
       "  UserScreenName  ...                                          Tweet URL\n",
       "0        Ubisoft  ...  https://twitter.com/Ubisoft/status/17048910146...\n",
       "1        Ubisoft  ...  https://twitter.com/Ubisoft/status/17048475520...\n",
       "2        Ubisoft  ...  https://twitter.com/Ubisoft/status/17052521294...\n",
       "3        Ubisoft  ...  https://twitter.com/Ubisoft/status/17052675137...\n",
       "4        Ubisoft  ...  https://twitter.com/Ubisoft/status/17055978970...\n",
       "\n",
       "[5 rows x 11 columns]"
      ]
     },
     "execution_count": 17,
     "metadata": {},
     "output_type": "execute_result"
    }
   ],
   "source": [
    "data.head(10)"
   ]
  },
  {
   "cell_type": "code",
   "execution_count": 8,
   "metadata": {
    "scrolled": true
   },
   "outputs": [
    {
     "name": "stdout",
     "output_type": "stream",
     "text": [
      "Scraping on headless mode.\n",
      "looking for tweets between 2023-06-01 and 2023-06-02 ...\n",
      " path : https://twitter.com/search?q=(%23amberheard)%20until%3A2023-06-02%20since%3A2023-06-01%20%20-filter%3Areplies&src=typed_query\n",
      "Tweet made at: 2023-06-01T03:12:53.000Z is found.\n",
      "Tweet made at: 2023-06-01T13:36:58.000Z is found.\n",
      "Tweet made at: 2023-06-01T22:39:55.000Z is found.\n",
      "scroll  1\n",
      "Tweet made at: 2023-06-01T14:05:43.000Z is found.\n",
      "Tweet made at: 2023-06-01T23:50:26.000Z is found.\n",
      "Tweet made at: 2023-06-01T15:14:14.000Z is found.\n",
      "Tweet made at: 2023-06-01T03:54:43.000Z is found.\n",
      "Tweet made at: 2023-06-01T23:40:46.000Z is found.\n",
      "Tweet made at: 2023-06-01T22:27:40.000Z is found.\n",
      "Tweet made at: 2023-06-01T19:16:07.000Z is found.\n",
      "Tweet made at: 2023-06-01T10:04:35.000Z is found.\n",
      "Tweet made at: 2023-06-01T21:10:51.000Z is found.\n",
      "scroll  2\n",
      "Tweet made at: 2023-06-01T15:09:36.000Z is found.\n",
      "Tweet made at: 2023-06-01T11:00:03.000Z is found.\n",
      "Tweet made at: 2023-06-01T19:43:00.000Z is found.\n",
      "Tweet made at: 2023-06-01T20:28:05.000Z is found.\n",
      "Tweet made at: 2023-06-01T13:33:48.000Z is found.\n",
      "Tweet made at: 2023-06-01T11:51:47.000Z is found.\n",
      "Tweet made at: 2023-06-01T19:54:46.000Z is found.\n",
      "scroll  3\n",
      "Tweet made at: 2023-06-01T17:06:16.000Z is found.\n",
      "Tweet made at: 2023-06-01T03:13:07.000Z is found.\n",
      "Tweet made at: 2023-06-01T06:38:30.000Z is found.\n",
      "Tweet made at: 2023-06-01T17:33:30.000Z is found.\n",
      "Tweet made at: 2023-06-01T17:06:54.000Z is found.\n",
      "Tweet made at: 2023-06-01T23:54:30.000Z is found.\n",
      "Tweet made at: 2023-06-01T21:07:55.000Z is found.\n",
      "Tweet made at: 2023-06-01T07:50:00.000Z is found.\n",
      "Tweet made at: 2023-06-01T08:24:30.000Z is found.\n",
      "scroll  4\n",
      "scroll  5\n",
      "scroll  6\n"
     ]
    }
   ],
   "source": [
    "# scrape top tweets of with the hashtag #covid19, in proximity and without replies.\n",
    "# the process is slower as the interval is smaller (choose an interval that can divide the period of time betwee, start and max date)\n",
    "data = scrape(\n",
    "    hashtag=\"amberheard\",\n",
    "    since=\"2023-06-01\",\n",
    "    until=\"2023-06-02\",\n",
    "    from_account=None,\n",
    "    interval=1,\n",
    "    headless=True,\n",
    "    display_type=\"Top\",\n",
    "    save_images=False,\n",
    "    proxy=None,\n",
    "    save_dir=\"outputs\",\n",
    "    resume=False,\n",
    "    filter_replies=True,\n",
    "    proximity=False,\n",
    ")"
   ]
  },
  {
   "cell_type": "code",
   "execution_count": 9,
   "metadata": {},
   "outputs": [
    {
     "data": {
      "text/html": [
       "<div>\n",
       "<style scoped>\n",
       "    .dataframe tbody tr th:only-of-type {\n",
       "        vertical-align: middle;\n",
       "    }\n",
       "\n",
       "    .dataframe tbody tr th {\n",
       "        vertical-align: top;\n",
       "    }\n",
       "\n",
       "    .dataframe thead th {\n",
       "        text-align: right;\n",
       "    }\n",
       "</style>\n",
       "<table border=\"1\" class=\"dataframe\">\n",
       "  <thead>\n",
       "    <tr style=\"text-align: right;\">\n",
       "      <th></th>\n",
       "      <th>UserScreenName</th>\n",
       "      <th>UserName</th>\n",
       "      <th>Timestamp</th>\n",
       "      <th>Text</th>\n",
       "      <th>Embedded_text</th>\n",
       "      <th>Emojis</th>\n",
       "      <th>Comments</th>\n",
       "      <th>Likes</th>\n",
       "      <th>Retweets</th>\n",
       "      <th>Image link</th>\n",
       "      <th>Tweet URL</th>\n",
       "    </tr>\n",
       "  </thead>\n",
       "  <tbody>\n",
       "    <tr>\n",
       "      <th>0</th>\n",
       "      <td>tony anstatt #voteYES</td>\n",
       "      <td>@treacl</td>\n",
       "      <td>2023-06-01T03:12:53.000Z</td>\n",
       "      <td>tony anstatt #voteYES\\n@treacl\\n·\\nJun 1</td>\n",
       "      <td>Should an #ai - #Singularity “come in this dec...</td>\n",
       "      <td>🦘</td>\n",
       "      <td></td>\n",
       "      <td></td>\n",
       "      <td>1</td>\n",
       "      <td>[https://pbs.twimg.com/media/FxgZJujagAAYkNN?f...</td>\n",
       "      <td>https://twitter.com/treacl/status/166410772131...</td>\n",
       "    </tr>\n",
       "    <tr>\n",
       "      <th>1</th>\n",
       "      <td>Raquel &amp; her Minions</td>\n",
       "      <td>@THENAGODOFWAR</td>\n",
       "      <td>2023-06-01T13:36:58.000Z</td>\n",
       "      <td>Raquel &amp; her Minions\\n@THENAGODOFWAR\\n·\\nJun 1</td>\n",
       "      <td>Happy pride month to these lovelies\\n\\n#Angeli...</td>\n",
       "      <td>✨ ✨ 🌈</td>\n",
       "      <td>2</td>\n",
       "      <td>5</td>\n",
       "      <td>45</td>\n",
       "      <td>[https://pbs.twimg.com/media/Fxin_g8WIAAxD-L?f...</td>\n",
       "      <td>https://twitter.com/THENAGODOFWAR/status/16642...</td>\n",
       "    </tr>\n",
       "    <tr>\n",
       "      <th>2</th>\n",
       "      <td>Kelly Marie</td>\n",
       "      <td>@KMhug89</td>\n",
       "      <td>2023-06-01T22:39:55.000Z</td>\n",
       "      <td>Kelly Marie\\n@KMhug89\\n·\\nJun 2</td>\n",
       "      <td>Effortlessly done again, she is still a lying ...</td>\n",
       "      <td></td>\n",
       "      <td></td>\n",
       "      <td>6</td>\n",
       "      <td>23</td>\n",
       "      <td>[https://pbs.twimg.com/media/FxkkRLuWwAMemUH?f...</td>\n",
       "      <td>https://twitter.com/KMhug89/status/16644014169...</td>\n",
       "    </tr>\n",
       "    <tr>\n",
       "      <th>3</th>\n",
       "      <td>Music&amp;More</td>\n",
       "      <td>@hiplifehiphop</td>\n",
       "      <td>2023-06-01T14:05:43.000Z</td>\n",
       "      <td>Music&amp;More\\n@hiplifehiphop\\n·\\nJun 1</td>\n",
       "      <td>Amber Heard reveals plans for Hollywood comeba...</td>\n",
       "      <td></td>\n",
       "      <td></td>\n",
       "      <td></td>\n",
       "      <td></td>\n",
       "      <td>[https://pbs.twimg.com/media/FxiukHYaUAEowKN?f...</td>\n",
       "      <td>https://twitter.com/hiplifehiphop/status/16642...</td>\n",
       "    </tr>\n",
       "    <tr>\n",
       "      <th>4</th>\n",
       "      <td>Lugnut the Comedian</td>\n",
       "      <td>@Loveracing36joy</td>\n",
       "      <td>2023-06-01T23:50:26.000Z</td>\n",
       "      <td>Lugnut the Comedian\\n@Loveracing36joy\\n·\\nJun 2</td>\n",
       "      <td>I knew everything I needed to know about #Scie...</td>\n",
       "      <td></td>\n",
       "      <td></td>\n",
       "      <td></td>\n",
       "      <td></td>\n",
       "      <td>[]</td>\n",
       "      <td>https://twitter.com/Loveracing36joy/status/166...</td>\n",
       "    </tr>\n",
       "    <tr>\n",
       "      <th>5</th>\n",
       "      <td>Lugnut the Comedian</td>\n",
       "      <td>@Loveracing36joy</td>\n",
       "      <td>2023-06-01T15:14:14.000Z</td>\n",
       "      <td>Lugnut the Comedian\\n@Loveracing36joy\\n·\\nJun 1</td>\n",
       "      <td>What's that Rumble you hear?\\n\\nIt's the sound...</td>\n",
       "      <td></td>\n",
       "      <td>1</td>\n",
       "      <td></td>\n",
       "      <td>2</td>\n",
       "      <td>[]</td>\n",
       "      <td>https://twitter.com/Loveracing36joy/status/166...</td>\n",
       "    </tr>\n",
       "    <tr>\n",
       "      <th>6</th>\n",
       "      <td>Cynthia</td>\n",
       "      <td>@Cynthiaines09</td>\n",
       "      <td>2023-06-01T03:54:43.000Z</td>\n",
       "      <td>Cynthia\\n@Cynthiaines09\\n·\\nJun 1</td>\n",
       "      <td>Yo no tengo nada en contra con #AmberHeard jej...</td>\n",
       "      <td>🤭 🤭 🤭</td>\n",
       "      <td></td>\n",
       "      <td></td>\n",
       "      <td>1</td>\n",
       "      <td>[]</td>\n",
       "      <td>https://twitter.com/Cynthiaines09/status/16641...</td>\n",
       "    </tr>\n",
       "    <tr>\n",
       "      <th>7</th>\n",
       "      <td>Shirley Rivera</td>\n",
       "      <td>@kitanamalina</td>\n",
       "      <td>2023-06-01T23:40:46.000Z</td>\n",
       "      <td>Shirley Rivera\\n@kitanamalina\\n·\\nJun 2</td>\n",
       "      <td>#AmberHeard le debería dar clases a #MeganMark...</td>\n",
       "      <td></td>\n",
       "      <td></td>\n",
       "      <td></td>\n",
       "      <td></td>\n",
       "      <td>[]</td>\n",
       "      <td>https://twitter.com/kitanamalina/status/166441...</td>\n",
       "    </tr>\n",
       "    <tr>\n",
       "      <th>8</th>\n",
       "      <td>Billi Pop</td>\n",
       "      <td>@Billi_Pop</td>\n",
       "      <td>2023-06-01T22:27:40.000Z</td>\n",
       "      <td>Billi Pop\\n@Billi_Pop\\n·\\nJun 2</td>\n",
       "      <td>Amber Heard confirms she has projects in Holly...</td>\n",
       "      <td></td>\n",
       "      <td></td>\n",
       "      <td></td>\n",
       "      <td></td>\n",
       "      <td>[]</td>\n",
       "      <td>https://twitter.com/Billi_Pop/status/166439833...</td>\n",
       "    </tr>\n",
       "    <tr>\n",
       "      <th>9</th>\n",
       "      <td>HetFlix</td>\n",
       "      <td>@xtremeVG</td>\n",
       "      <td>2023-06-01T19:16:07.000Z</td>\n",
       "      <td>HetFlix\\n@xtremeVG\\n·\\nJun 2</td>\n",
       "      <td>Lily-Rose Depp’s Parents: Everything To Know A...</td>\n",
       "      <td></td>\n",
       "      <td></td>\n",
       "      <td>1</td>\n",
       "      <td></td>\n",
       "      <td>[https://pbs.twimg.com/card_img/17031258056503...</td>\n",
       "      <td>https://twitter.com/xtremeVG/status/1664350127...</td>\n",
       "    </tr>\n",
       "  </tbody>\n",
       "</table>\n",
       "</div>"
      ],
      "text/plain": [
       "          UserScreenName  ...                                          Tweet URL\n",
       "0  tony anstatt #voteYES  ...  https://twitter.com/treacl/status/166410772131...\n",
       "1   Raquel & her Minions  ...  https://twitter.com/THENAGODOFWAR/status/16642...\n",
       "2            Kelly Marie  ...  https://twitter.com/KMhug89/status/16644014169...\n",
       "3             Music&More  ...  https://twitter.com/hiplifehiphop/status/16642...\n",
       "4    Lugnut the Comedian  ...  https://twitter.com/Loveracing36joy/status/166...\n",
       "5    Lugnut the Comedian  ...  https://twitter.com/Loveracing36joy/status/166...\n",
       "6                Cynthia  ...  https://twitter.com/Cynthiaines09/status/16641...\n",
       "7         Shirley Rivera  ...  https://twitter.com/kitanamalina/status/166441...\n",
       "8              Billi Pop  ...  https://twitter.com/Billi_Pop/status/166439833...\n",
       "9                HetFlix  ...  https://twitter.com/xtremeVG/status/1664350127...\n",
       "\n",
       "[10 rows x 11 columns]"
      ]
     },
     "execution_count": 9,
     "metadata": {},
     "output_type": "execute_result"
    }
   ],
   "source": [
    "data.head(10)"
   ]
  },
  {
   "cell_type": "markdown",
   "metadata": {},
   "source": [
    "# Get the main information of a given list of users"
   ]
  },
  {
   "cell_type": "code",
   "execution_count": 3,
   "metadata": {},
   "outputs": [],
   "source": [
    "# These users belongs to my following.\n",
    "users = [\n",
    "    \"nagouzil\",\n",
    "    \"@yassineaitjeddi\",\n",
    "    \"TahaAlamIdrissi\",\n",
    "]\n",
    "#'@Nabila_Gl', 'geceeekusuu', '@pabu232', '@av_ahmet', '@x_born_to_die_x']"
   ]
  },
  {
   "cell_type": "code",
   "execution_count": 4,
   "metadata": {
    "scrolled": true
   },
   "outputs": [
    {
     "name": "stdout",
     "output_type": "stream",
     "text": [
      "Scraping on headless mode.\n",
      "--------------- nagouzil information : ---------------\n",
      "Following :  83\n",
      "Followers :  27\n",
      "Location :  \n",
      "Join date :  A rejoint Twitter en septembre 2012\n",
      "Birth date :  \n",
      "Description :  Make a difference\n",
      "Website :  \n",
      "--------------- @yassineaitjeddi information : ---------------\n",
      "Following :  125\n",
      "Followers :  5\n",
      "Location :  \n",
      "Join date :  A rejoint Twitter en octobre 2016\n",
      "Birth date :  \n",
      "Description :  \n",
      "Website :  \n",
      "--------------- TahaAlamIdrissi information : ---------------\n",
      "Following :  382\n",
      "Followers :  155\n",
      "Location :  France\n",
      "Join date :  A rejoint Twitter en août 2012\n",
      "Birth date :  \n",
      "Description :  #SoftwareEngineeringStudentAtTSE\n",
      "#DEVOPS_ENTHUSIAST\n",
      "#FULL_STACK_WEB_DEV\n",
      "Website :  \n"
     ]
    }
   ],
   "source": [
    "# this function return a list that contains :\n",
    "# [\"nb of following\",\"nb of followers\", \"join date\", \"birthdate\", \"location\", \"website\", \"description\"]\n",
    "users_info = get_user_information(users, headless=True)"
   ]
  },
  {
   "cell_type": "code",
   "execution_count": 5,
   "metadata": {
    "scrolled": true
   },
   "outputs": [
    {
     "data": {
      "text/html": [
       "<div>\n",
       "<style scoped>\n",
       "    .dataframe tbody tr th:only-of-type {\n",
       "        vertical-align: middle;\n",
       "    }\n",
       "\n",
       "    .dataframe tbody tr th {\n",
       "        vertical-align: top;\n",
       "    }\n",
       "\n",
       "    .dataframe thead th {\n",
       "        text-align: right;\n",
       "    }\n",
       "</style>\n",
       "<table border=\"1\" class=\"dataframe\">\n",
       "  <thead>\n",
       "    <tr style=\"text-align: right;\">\n",
       "      <th></th>\n",
       "      <th>nb of following</th>\n",
       "      <th>nb of followers</th>\n",
       "      <th>join date</th>\n",
       "      <th>birthdate</th>\n",
       "      <th>location</th>\n",
       "      <th>website</th>\n",
       "      <th>description</th>\n",
       "    </tr>\n",
       "  </thead>\n",
       "  <tbody>\n",
       "    <tr>\n",
       "      <th>nagouzil</th>\n",
       "      <td>83</td>\n",
       "      <td>27</td>\n",
       "      <td>A rejoint Twitter en septembre 2012</td>\n",
       "      <td></td>\n",
       "      <td></td>\n",
       "      <td></td>\n",
       "      <td>Make a difference</td>\n",
       "    </tr>\n",
       "    <tr>\n",
       "      <th>@yassineaitjeddi</th>\n",
       "      <td>125</td>\n",
       "      <td>5</td>\n",
       "      <td>A rejoint Twitter en octobre 2016</td>\n",
       "      <td></td>\n",
       "      <td></td>\n",
       "      <td></td>\n",
       "      <td></td>\n",
       "    </tr>\n",
       "    <tr>\n",
       "      <th>TahaAlamIdrissi</th>\n",
       "      <td>382</td>\n",
       "      <td>155</td>\n",
       "      <td>A rejoint Twitter en août 2012</td>\n",
       "      <td></td>\n",
       "      <td>France</td>\n",
       "      <td></td>\n",
       "      <td>#SoftwareEngineeringStudentAtTSE\\n#DEVOPS_ENTH...</td>\n",
       "    </tr>\n",
       "  </tbody>\n",
       "</table>\n",
       "</div>"
      ],
      "text/plain": [
       "                 nb of following nb of followers  \\\n",
       "nagouzil                      83              27   \n",
       "@yassineaitjeddi             125               5   \n",
       "TahaAlamIdrissi              382             155   \n",
       "\n",
       "                                            join date birthdate location  \\\n",
       "nagouzil          A rejoint Twitter en septembre 2012                      \n",
       "@yassineaitjeddi    A rejoint Twitter en octobre 2016                      \n",
       "TahaAlamIdrissi        A rejoint Twitter en août 2012             France   \n",
       "\n",
       "                 website                                        description  \n",
       "nagouzil                                                  Make a difference  \n",
       "@yassineaitjeddi                                                             \n",
       "TahaAlamIdrissi           #SoftwareEngineeringStudentAtTSE\\n#DEVOPS_ENTH...  "
      ]
     },
     "execution_count": 5,
     "metadata": {},
     "output_type": "execute_result"
    }
   ],
   "source": [
    "import pandas as pd\n",
    "\n",
    "users_df = pd.DataFrame(\n",
    "    users_info,\n",
    "    index=[\n",
    "        \"nb of following\",\n",
    "        \"nb of followers\",\n",
    "        \"join date\",\n",
    "        \"birthdate\",\n",
    "        \"location\",\n",
    "        \"website\",\n",
    "        \"description\",\n",
    "    ],\n",
    ").T\n",
    "users_df"
   ]
  },
  {
   "cell_type": "markdown",
   "metadata": {},
   "source": [
    "# Get followers and following of a given list of users"
   ]
  },
  {
   "cell_type": "markdown",
   "metadata": {},
   "source": [
    "Enter your username and password in .env file. I recommande you dont use your main account.  \n",
    "Increase wait argument to avoid banning your account and maximise the crawling process if the internet is slow. I used 1 and it's safe."
   ]
  },
  {
   "cell_type": "code",
   "execution_count": 9,
   "metadata": {},
   "outputs": [
    {
     "data": {
      "text/plain": [
       "'nagouzil'"
      ]
     },
     "execution_count": 9,
     "metadata": {},
     "output_type": "execute_result"
    }
   ],
   "source": [
    "users[0]"
   ]
  },
  {
   "cell_type": "code",
   "execution_count": 6,
   "metadata": {},
   "outputs": [],
   "source": [
    "env_path = \".env\""
   ]
  },
  {
   "cell_type": "code",
   "execution_count": 13,
   "metadata": {
    "scrolled": true
   },
   "outputs": [
    {
     "name": "stdout",
     "output_type": "stream",
     "text": [
      "Scraping on headless mode.\n",
      "Crawling nagouzil following\n",
      "Found 8 following\n",
      "Found 37 following\n",
      "Found 59 following\n",
      "Found 79 following\n",
      "Found 83 following\n",
      "Found 83 following\n",
      "file saved in outputs/nagouzil_nagouzil_followers.json\n"
     ]
    }
   ],
   "source": [
    "following = get_users_following(\n",
    "    users=[\"nagouzil\"],\n",
    "    env=env_path,\n",
    "    verbose=0,\n",
    "    headless=True,\n",
    "    wait=2,\n",
    "    file_path=\"outputs/\",\n",
    ")"
   ]
  },
  {
   "cell_type": "code",
   "execution_count": 14,
   "metadata": {
    "scrolled": true
   },
   "outputs": [
    {
     "data": {
      "text/plain": [
       "['@FabrizioRomano',\n",
       " '@TrollFootball',\n",
       " '@madelyncline',\n",
       " '@tweetsauce',\n",
       " '@jockowillink',\n",
       " '@brfootball',\n",
       " '@433',\n",
       " '@Ibra_official',\n",
       " '@HSHQ',\n",
       " '@Snowden']"
      ]
     },
     "execution_count": 14,
     "metadata": {},
     "output_type": "execute_result"
    }
   ],
   "source": [
    "following[\"nagouzil\"][:10]"
   ]
  },
  {
   "cell_type": "code",
   "execution_count": 15,
   "metadata": {
    "scrolled": true
   },
   "outputs": [
    {
     "name": "stdout",
     "output_type": "stream",
     "text": [
      "Scraping on headless mode.\n",
      "Crawling nagouzil followers\n",
      "Found 19 followers\n",
      "Found 26 followers\n",
      "Found 26 followers\n",
      "file saved in outputs/nagouzil_nagouzil_followers.json\n"
     ]
    }
   ],
   "source": [
    "followers = get_users_followers(\n",
    "    users=[\"nagouzil\"],\n",
    "    env=env_path,\n",
    "    verbose=0,\n",
    "    headless=True,\n",
    "    wait=2,\n",
    "    file_path=\"outputs/\",\n",
    ")"
   ]
  },
  {
   "cell_type": "code",
   "execution_count": 16,
   "metadata": {},
   "outputs": [
    {
     "data": {
      "text/plain": [
       "['@ayoubagouzil',\n",
       " '@zinebmouchrik',\n",
       " '@thehypevalue',\n",
       " '@MahmuduR_Design',\n",
       " '@DesignsNoved',\n",
       " '@Isaisma1',\n",
       " '@MehdiElIdriss23',\n",
       " '@zohair79262319',\n",
       " '@ZotefeJean',\n",
       " '@Fervidlife']"
      ]
     },
     "execution_count": 16,
     "metadata": {},
     "output_type": "execute_result"
    }
   ],
   "source": [
    "followers[\"nagouzil\"][:10]"
   ]
  },
  {
   "cell_type": "code",
   "execution_count": null,
   "metadata": {},
   "outputs": [],
   "source": []
  }
 ],
 "metadata": {
  "kernelspec": {
   "display_name": "Python 3",
   "language": "python",
   "name": "python3"
  },
  "language_info": {
   "codemirror_mode": {
    "name": "ipython",
    "version": 3
   },
   "file_extension": ".py",
   "mimetype": "text/x-python",
   "name": "python",
   "nbconvert_exporter": "python",
   "pygments_lexer": "ipython3",
   "version": "3.11.4"
  }
 },
 "nbformat": 4,
 "nbformat_minor": 4
}
